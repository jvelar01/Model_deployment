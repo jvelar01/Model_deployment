{
 "cells": [
  {
   "cell_type": "markdown",
   "metadata": {},
   "source": [
    "We import the dataset"
   ]
  },
  {
   "cell_type": "code",
   "execution_count": 1,
   "metadata": {},
   "outputs": [],
   "source": [
    "from ucimlrepo import fetch_ucirepo \n",
    "import pandas as pd\n",
    "# fetch dataset \n",
    "forest_fires = fetch_ucirepo(id=162) \n",
    "  \n",
    "# data (as pandas dataframes) \n",
    "X = forest_fires.data.features \n",
    "y = forest_fires.data.targets \n",
    "\n",
    "Xy=pd.concat([X,y],axis=1)\n",
    "\n"
   ]
  },
  {
   "cell_type": "markdown",
   "metadata": {},
   "source": [
    "We visualize it"
   ]
  },
  {
   "cell_type": "code",
   "execution_count": 2,
   "metadata": {},
   "outputs": [
    {
     "name": "stdout",
     "output_type": "stream",
     "text": [
      "     X  Y month  day  FFMC    DMC     DC   ISI  temp  RH  wind  rain\n",
      "0    7  5   mar  fri  86.2   26.2   94.3   5.1   8.2  51   6.7   0.0\n",
      "1    7  4   oct  tue  90.6   35.4  669.1   6.7  18.0  33   0.9   0.0\n",
      "2    7  4   oct  sat  90.6   43.7  686.9   6.7  14.6  33   1.3   0.0\n",
      "3    8  6   mar  fri  91.7   33.3   77.5   9.0   8.3  97   4.0   0.2\n",
      "4    8  6   mar  sun  89.3   51.3  102.2   9.6  11.4  99   1.8   0.0\n",
      "..  .. ..   ...  ...   ...    ...    ...   ...   ...  ..   ...   ...\n",
      "512  4  3   aug  sun  81.6   56.7  665.6   1.9  27.8  32   2.7   0.0\n",
      "513  2  4   aug  sun  81.6   56.7  665.6   1.9  21.9  71   5.8   0.0\n",
      "514  7  4   aug  sun  81.6   56.7  665.6   1.9  21.2  70   6.7   0.0\n",
      "515  1  4   aug  sat  94.4  146.0  614.7  11.3  25.6  42   4.0   0.0\n",
      "516  6  3   nov  tue  79.5    3.0  106.7   1.1  11.8  31   4.5   0.0\n",
      "\n",
      "[517 rows x 12 columns]\n"
     ]
    }
   ],
   "source": [
    "print(X)"
   ]
  },
  {
   "cell_type": "markdown",
   "metadata": {},
   "source": [
    "We encode it (we should have probably waited a little bit before doing it, but it is fine.)"
   ]
  },
  {
   "cell_type": "code",
   "execution_count": 3,
   "metadata": {},
   "outputs": [],
   "source": [
    "import pandas as pd\n",
    "import numpy as np\n",
    "\n",
    "X_encoded = pd.get_dummies(X, columns=['month', 'day'], drop_first=False)\n",
    "\n",
    "bool_columns = X_encoded.select_dtypes(include='bool').columns\n",
    "X_encoded[bool_columns] = X_encoded[bool_columns].astype(int)"
   ]
  },
  {
   "cell_type": "markdown",
   "metadata": {},
   "source": [
    "We look for duplicates and null values"
   ]
  },
  {
   "cell_type": "code",
   "execution_count": 4,
   "metadata": {},
   "outputs": [
    {
     "name": "stdout",
     "output_type": "stream",
     "text": [
      "number of rows = 517\n",
      "number of duplicated rows = 4\n",
      "     X  Y  FFMC    DMC     DC   ISI  temp  RH  wind  rain  ...  month_oct  \\\n",
      "53   4  3  92.1  111.2  654.1   9.6  20.4  42   4.9   0.0  ...          0   \n",
      "100  3  4  91.4  142.4  601.4  10.6  19.8  39   5.4   0.0  ...          0   \n",
      "215  4  4  91.7   35.8   80.8   7.8  17.0  27   4.9   0.0  ...          0   \n",
      "303  3  6  91.1   94.1  232.1   7.1  19.2  38   4.5   0.0  ...          0   \n",
      "\n",
      "     month_sep  day_fri  day_mon  day_sat  day_sun  day_thu  day_tue  day_wed  \\\n",
      "53           0        0        0        0        0        0        0        1   \n",
      "100          0        0        0        0        1        0        0        0   \n",
      "215          0        0        0        1        0        0        0        0   \n",
      "303          0        1        0        0        0        0        0        0   \n",
      "\n",
      "      area  \n",
      "53    0.00  \n",
      "100   0.00  \n",
      "215  28.66  \n",
      "303   0.00  \n",
      "\n",
      "[4 rows x 30 columns]\n"
     ]
    }
   ],
   "source": [
    "df=pd.concat([X_encoded,y],axis=1)\n",
    "\n",
    "df_duplicates=df[df.duplicated(keep='first')]\n",
    "print(\"number of rows =\", len(df)) \n",
    "print(\"number of duplicated rows =\", len(df_duplicates))\n",
    "print(df_duplicates) "
   ]
  },
  {
   "cell_type": "code",
   "execution_count": 5,
   "metadata": {},
   "outputs": [
    {
     "data": {
      "text/html": [
       "<div>\n",
       "<style scoped>\n",
       "    .dataframe tbody tr th:only-of-type {\n",
       "        vertical-align: middle;\n",
       "    }\n",
       "\n",
       "    .dataframe tbody tr th {\n",
       "        vertical-align: top;\n",
       "    }\n",
       "\n",
       "    .dataframe thead th {\n",
       "        text-align: right;\n",
       "    }\n",
       "</style>\n",
       "<table border=\"1\" class=\"dataframe\">\n",
       "  <thead>\n",
       "    <tr style=\"text-align: right;\">\n",
       "      <th></th>\n",
       "      <th>X</th>\n",
       "      <th>Y</th>\n",
       "      <th>FFMC</th>\n",
       "      <th>DMC</th>\n",
       "      <th>DC</th>\n",
       "      <th>ISI</th>\n",
       "      <th>temp</th>\n",
       "      <th>RH</th>\n",
       "      <th>wind</th>\n",
       "      <th>rain</th>\n",
       "      <th>...</th>\n",
       "      <th>month_oct</th>\n",
       "      <th>month_sep</th>\n",
       "      <th>day_fri</th>\n",
       "      <th>day_mon</th>\n",
       "      <th>day_sat</th>\n",
       "      <th>day_sun</th>\n",
       "      <th>day_thu</th>\n",
       "      <th>day_tue</th>\n",
       "      <th>day_wed</th>\n",
       "      <th>area</th>\n",
       "    </tr>\n",
       "  </thead>\n",
       "  <tbody>\n",
       "    <tr>\n",
       "      <th>0</th>\n",
       "      <td>7</td>\n",
       "      <td>5</td>\n",
       "      <td>86.2</td>\n",
       "      <td>26.2</td>\n",
       "      <td>94.3</td>\n",
       "      <td>5.1</td>\n",
       "      <td>8.2</td>\n",
       "      <td>51</td>\n",
       "      <td>6.7</td>\n",
       "      <td>0.0</td>\n",
       "      <td>...</td>\n",
       "      <td>0</td>\n",
       "      <td>0</td>\n",
       "      <td>1</td>\n",
       "      <td>0</td>\n",
       "      <td>0</td>\n",
       "      <td>0</td>\n",
       "      <td>0</td>\n",
       "      <td>0</td>\n",
       "      <td>0</td>\n",
       "      <td>0.00</td>\n",
       "    </tr>\n",
       "    <tr>\n",
       "      <th>1</th>\n",
       "      <td>7</td>\n",
       "      <td>4</td>\n",
       "      <td>90.6</td>\n",
       "      <td>35.4</td>\n",
       "      <td>669.1</td>\n",
       "      <td>6.7</td>\n",
       "      <td>18.0</td>\n",
       "      <td>33</td>\n",
       "      <td>0.9</td>\n",
       "      <td>0.0</td>\n",
       "      <td>...</td>\n",
       "      <td>1</td>\n",
       "      <td>0</td>\n",
       "      <td>0</td>\n",
       "      <td>0</td>\n",
       "      <td>0</td>\n",
       "      <td>0</td>\n",
       "      <td>0</td>\n",
       "      <td>1</td>\n",
       "      <td>0</td>\n",
       "      <td>0.00</td>\n",
       "    </tr>\n",
       "    <tr>\n",
       "      <th>2</th>\n",
       "      <td>7</td>\n",
       "      <td>4</td>\n",
       "      <td>90.6</td>\n",
       "      <td>43.7</td>\n",
       "      <td>686.9</td>\n",
       "      <td>6.7</td>\n",
       "      <td>14.6</td>\n",
       "      <td>33</td>\n",
       "      <td>1.3</td>\n",
       "      <td>0.0</td>\n",
       "      <td>...</td>\n",
       "      <td>1</td>\n",
       "      <td>0</td>\n",
       "      <td>0</td>\n",
       "      <td>0</td>\n",
       "      <td>1</td>\n",
       "      <td>0</td>\n",
       "      <td>0</td>\n",
       "      <td>0</td>\n",
       "      <td>0</td>\n",
       "      <td>0.00</td>\n",
       "    </tr>\n",
       "    <tr>\n",
       "      <th>3</th>\n",
       "      <td>8</td>\n",
       "      <td>6</td>\n",
       "      <td>91.7</td>\n",
       "      <td>33.3</td>\n",
       "      <td>77.5</td>\n",
       "      <td>9.0</td>\n",
       "      <td>8.3</td>\n",
       "      <td>97</td>\n",
       "      <td>4.0</td>\n",
       "      <td>0.2</td>\n",
       "      <td>...</td>\n",
       "      <td>0</td>\n",
       "      <td>0</td>\n",
       "      <td>1</td>\n",
       "      <td>0</td>\n",
       "      <td>0</td>\n",
       "      <td>0</td>\n",
       "      <td>0</td>\n",
       "      <td>0</td>\n",
       "      <td>0</td>\n",
       "      <td>0.00</td>\n",
       "    </tr>\n",
       "    <tr>\n",
       "      <th>4</th>\n",
       "      <td>8</td>\n",
       "      <td>6</td>\n",
       "      <td>89.3</td>\n",
       "      <td>51.3</td>\n",
       "      <td>102.2</td>\n",
       "      <td>9.6</td>\n",
       "      <td>11.4</td>\n",
       "      <td>99</td>\n",
       "      <td>1.8</td>\n",
       "      <td>0.0</td>\n",
       "      <td>...</td>\n",
       "      <td>0</td>\n",
       "      <td>0</td>\n",
       "      <td>0</td>\n",
       "      <td>0</td>\n",
       "      <td>0</td>\n",
       "      <td>1</td>\n",
       "      <td>0</td>\n",
       "      <td>0</td>\n",
       "      <td>0</td>\n",
       "      <td>0.00</td>\n",
       "    </tr>\n",
       "    <tr>\n",
       "      <th>...</th>\n",
       "      <td>...</td>\n",
       "      <td>...</td>\n",
       "      <td>...</td>\n",
       "      <td>...</td>\n",
       "      <td>...</td>\n",
       "      <td>...</td>\n",
       "      <td>...</td>\n",
       "      <td>...</td>\n",
       "      <td>...</td>\n",
       "      <td>...</td>\n",
       "      <td>...</td>\n",
       "      <td>...</td>\n",
       "      <td>...</td>\n",
       "      <td>...</td>\n",
       "      <td>...</td>\n",
       "      <td>...</td>\n",
       "      <td>...</td>\n",
       "      <td>...</td>\n",
       "      <td>...</td>\n",
       "      <td>...</td>\n",
       "      <td>...</td>\n",
       "    </tr>\n",
       "    <tr>\n",
       "      <th>508</th>\n",
       "      <td>4</td>\n",
       "      <td>3</td>\n",
       "      <td>81.6</td>\n",
       "      <td>56.7</td>\n",
       "      <td>665.6</td>\n",
       "      <td>1.9</td>\n",
       "      <td>27.8</td>\n",
       "      <td>32</td>\n",
       "      <td>2.7</td>\n",
       "      <td>0.0</td>\n",
       "      <td>...</td>\n",
       "      <td>0</td>\n",
       "      <td>0</td>\n",
       "      <td>0</td>\n",
       "      <td>0</td>\n",
       "      <td>0</td>\n",
       "      <td>1</td>\n",
       "      <td>0</td>\n",
       "      <td>0</td>\n",
       "      <td>0</td>\n",
       "      <td>6.44</td>\n",
       "    </tr>\n",
       "    <tr>\n",
       "      <th>509</th>\n",
       "      <td>2</td>\n",
       "      <td>4</td>\n",
       "      <td>81.6</td>\n",
       "      <td>56.7</td>\n",
       "      <td>665.6</td>\n",
       "      <td>1.9</td>\n",
       "      <td>21.9</td>\n",
       "      <td>71</td>\n",
       "      <td>5.8</td>\n",
       "      <td>0.0</td>\n",
       "      <td>...</td>\n",
       "      <td>0</td>\n",
       "      <td>0</td>\n",
       "      <td>0</td>\n",
       "      <td>0</td>\n",
       "      <td>0</td>\n",
       "      <td>1</td>\n",
       "      <td>0</td>\n",
       "      <td>0</td>\n",
       "      <td>0</td>\n",
       "      <td>54.29</td>\n",
       "    </tr>\n",
       "    <tr>\n",
       "      <th>510</th>\n",
       "      <td>7</td>\n",
       "      <td>4</td>\n",
       "      <td>81.6</td>\n",
       "      <td>56.7</td>\n",
       "      <td>665.6</td>\n",
       "      <td>1.9</td>\n",
       "      <td>21.2</td>\n",
       "      <td>70</td>\n",
       "      <td>6.7</td>\n",
       "      <td>0.0</td>\n",
       "      <td>...</td>\n",
       "      <td>0</td>\n",
       "      <td>0</td>\n",
       "      <td>0</td>\n",
       "      <td>0</td>\n",
       "      <td>0</td>\n",
       "      <td>1</td>\n",
       "      <td>0</td>\n",
       "      <td>0</td>\n",
       "      <td>0</td>\n",
       "      <td>11.16</td>\n",
       "    </tr>\n",
       "    <tr>\n",
       "      <th>511</th>\n",
       "      <td>1</td>\n",
       "      <td>4</td>\n",
       "      <td>94.4</td>\n",
       "      <td>146.0</td>\n",
       "      <td>614.7</td>\n",
       "      <td>11.3</td>\n",
       "      <td>25.6</td>\n",
       "      <td>42</td>\n",
       "      <td>4.0</td>\n",
       "      <td>0.0</td>\n",
       "      <td>...</td>\n",
       "      <td>0</td>\n",
       "      <td>0</td>\n",
       "      <td>0</td>\n",
       "      <td>0</td>\n",
       "      <td>1</td>\n",
       "      <td>0</td>\n",
       "      <td>0</td>\n",
       "      <td>0</td>\n",
       "      <td>0</td>\n",
       "      <td>0.00</td>\n",
       "    </tr>\n",
       "    <tr>\n",
       "      <th>512</th>\n",
       "      <td>6</td>\n",
       "      <td>3</td>\n",
       "      <td>79.5</td>\n",
       "      <td>3.0</td>\n",
       "      <td>106.7</td>\n",
       "      <td>1.1</td>\n",
       "      <td>11.8</td>\n",
       "      <td>31</td>\n",
       "      <td>4.5</td>\n",
       "      <td>0.0</td>\n",
       "      <td>...</td>\n",
       "      <td>0</td>\n",
       "      <td>0</td>\n",
       "      <td>0</td>\n",
       "      <td>0</td>\n",
       "      <td>0</td>\n",
       "      <td>0</td>\n",
       "      <td>0</td>\n",
       "      <td>1</td>\n",
       "      <td>0</td>\n",
       "      <td>0.00</td>\n",
       "    </tr>\n",
       "  </tbody>\n",
       "</table>\n",
       "<p>513 rows × 30 columns</p>\n",
       "</div>"
      ],
      "text/plain": [
       "     X  Y  FFMC    DMC     DC   ISI  temp  RH  wind  rain  ...  month_oct  \\\n",
       "0    7  5  86.2   26.2   94.3   5.1   8.2  51   6.7   0.0  ...          0   \n",
       "1    7  4  90.6   35.4  669.1   6.7  18.0  33   0.9   0.0  ...          1   \n",
       "2    7  4  90.6   43.7  686.9   6.7  14.6  33   1.3   0.0  ...          1   \n",
       "3    8  6  91.7   33.3   77.5   9.0   8.3  97   4.0   0.2  ...          0   \n",
       "4    8  6  89.3   51.3  102.2   9.6  11.4  99   1.8   0.0  ...          0   \n",
       "..  .. ..   ...    ...    ...   ...   ...  ..   ...   ...  ...        ...   \n",
       "508  4  3  81.6   56.7  665.6   1.9  27.8  32   2.7   0.0  ...          0   \n",
       "509  2  4  81.6   56.7  665.6   1.9  21.9  71   5.8   0.0  ...          0   \n",
       "510  7  4  81.6   56.7  665.6   1.9  21.2  70   6.7   0.0  ...          0   \n",
       "511  1  4  94.4  146.0  614.7  11.3  25.6  42   4.0   0.0  ...          0   \n",
       "512  6  3  79.5    3.0  106.7   1.1  11.8  31   4.5   0.0  ...          0   \n",
       "\n",
       "     month_sep  day_fri  day_mon  day_sat  day_sun  day_thu  day_tue  day_wed  \\\n",
       "0            0        1        0        0        0        0        0        0   \n",
       "1            0        0        0        0        0        0        1        0   \n",
       "2            0        0        0        1        0        0        0        0   \n",
       "3            0        1        0        0        0        0        0        0   \n",
       "4            0        0        0        0        1        0        0        0   \n",
       "..         ...      ...      ...      ...      ...      ...      ...      ...   \n",
       "508          0        0        0        0        1        0        0        0   \n",
       "509          0        0        0        0        1        0        0        0   \n",
       "510          0        0        0        0        1        0        0        0   \n",
       "511          0        0        0        1        0        0        0        0   \n",
       "512          0        0        0        0        0        0        1        0   \n",
       "\n",
       "      area  \n",
       "0     0.00  \n",
       "1     0.00  \n",
       "2     0.00  \n",
       "3     0.00  \n",
       "4     0.00  \n",
       "..     ...  \n",
       "508   6.44  \n",
       "509  54.29  \n",
       "510  11.16  \n",
       "511   0.00  \n",
       "512   0.00  \n",
       "\n",
       "[513 rows x 30 columns]"
      ]
     },
     "execution_count": 5,
     "metadata": {},
     "output_type": "execute_result"
    }
   ],
   "source": [
    "df_nodup=df.drop_duplicates()\n",
    "df_nodup.reset_index(drop=True)"
   ]
  },
  {
   "cell_type": "code",
   "execution_count": 6,
   "metadata": {},
   "outputs": [
    {
     "data": {
      "text/plain": [
       "X            0\n",
       "Y            0\n",
       "FFMC         0\n",
       "DMC          0\n",
       "DC           0\n",
       "ISI          0\n",
       "temp         0\n",
       "RH           0\n",
       "wind         0\n",
       "rain         0\n",
       "month_apr    0\n",
       "month_aug    0\n",
       "month_dec    0\n",
       "month_feb    0\n",
       "month_jan    0\n",
       "month_jul    0\n",
       "month_jun    0\n",
       "month_mar    0\n",
       "month_may    0\n",
       "month_nov    0\n",
       "month_oct    0\n",
       "month_sep    0\n",
       "day_fri      0\n",
       "day_mon      0\n",
       "day_sat      0\n",
       "day_sun      0\n",
       "day_thu      0\n",
       "day_tue      0\n",
       "day_wed      0\n",
       "area         0\n",
       "dtype: int64"
      ]
     },
     "execution_count": 6,
     "metadata": {},
     "output_type": "execute_result"
    }
   ],
   "source": [
    "df_nodup.isnull().sum()"
   ]
  },
  {
   "cell_type": "markdown",
   "metadata": {},
   "source": [
    "We look now at the distribution of values in our dataset."
   ]
  },
  {
   "cell_type": "code",
   "execution_count": 7,
   "metadata": {},
   "outputs": [],
   "source": [
    "import seaborn as sns"
   ]
  },
  {
   "cell_type": "code",
   "execution_count": 8,
   "metadata": {},
   "outputs": [
    {
     "data": {
      "text/plain": [
       "array([[<Axes: title={'center': 'X'}>, <Axes: title={'center': 'Y'}>,\n",
       "        <Axes: title={'center': 'FFMC'}>],\n",
       "       [<Axes: title={'center': 'DMC'}>, <Axes: title={'center': 'DC'}>,\n",
       "        <Axes: title={'center': 'ISI'}>],\n",
       "       [<Axes: title={'center': 'temp'}>, <Axes: title={'center': 'RH'}>,\n",
       "        <Axes: title={'center': 'wind'}>],\n",
       "       [<Axes: title={'center': 'rain'}>, <Axes: >, <Axes: >]],\n",
       "      dtype=object)"
      ]
     },
     "execution_count": 8,
     "metadata": {},
     "output_type": "execute_result"
    },
    {
     "data": {
      "image/png": "[encoded data removed]",
      "text/plain": [
       "<Figure size 640x480 with 12 Axes>"
      ]
     },
     "metadata": {},
     "output_type": "display_data"
    }
   ],
   "source": [
    "X.hist()"
   ]
  },
  {
   "cell_type": "markdown",
   "metadata": {},
   "source": [
    "We see some distributions are quite unorthodox, especially X and Y might be susceptible of dividing into clusters. We will not do this, but we leave it as a proposal for further work. "
   ]
  },
  {
   "cell_type": "markdown",
   "metadata": {},
   "source": [
    "We look for outliers. "
   ]
  },
  {
   "cell_type": "code",
   "execution_count": 9,
   "metadata": {},
   "outputs": [
    {
     "name": "stdout",
     "output_type": "stream",
     "text": [
      "IQR for column X: 4.0 (np.float64(-3.0), np.float64(13.0))\n",
      "Number of outliers for X: 0\n",
      "Max outlier for X: nan\n",
      "Min outlier for X: nan\n",
      "IQR for column Y: 1.0 (np.float64(2.5), np.float64(6.5))\n",
      "Number of outliers for Y: 51\n",
      "Max outlier for Y: 9\n",
      "Min outlier for Y: 2\n",
      "IQR for column FFMC: 2.700000000000003 (np.float64(86.15), np.float64(96.95000000000002))\n",
      "Number of outliers for FFMC: 53\n",
      "Max outlier for FFMC: 85.9\n",
      "Min outlier for FFMC: 18.7\n",
      "IQR for column DMC: 73.80000000000001 (np.float64(-42.10000000000002), np.float64(253.10000000000002))\n",
      "Number of outliers for DMC: 17\n",
      "Max outlier for DMC: 291.3\n",
      "Min outlier for DMC: 253.6\n",
      "IQR for column DC: 276.2 (np.float64(23.400000000000034), np.float64(1128.1999999999998))\n",
      "Number of outliers for DC: 8\n",
      "Max outlier for DC: 18.7\n",
      "Min outlier for DC: 7.9\n",
      "IQR for column ISI: 4.300000000000001 (np.float64(0.049999999999998934), np.float64(17.25))\n",
      "Number of outliers for ISI: 23\n",
      "Max outlier for ISI: 56.1\n",
      "Min outlier for ISI: 0.0\n",
      "IQR for column temp: 7.300000000000001 (np.float64(4.549999999999999), np.float64(33.75))\n",
      "Number of outliers for temp: 2\n",
      "Max outlier for temp: 4.2\n",
      "Min outlier for temp: 2.2\n",
      "IQR for column RH: 20.0 (np.float64(3.0), np.float64(83.0))\n",
      "Number of outliers for RH: 12\n",
      "Max outlier for RH: 100\n",
      "Min outlier for RH: 84\n",
      "IQR for column wind: 2.2 (np.float64(-0.6000000000000001), np.float64(8.200000000000001))\n",
      "Number of outliers for wind: 13\n",
      "Max outlier for wind: 9.4\n",
      "Min outlier for wind: 8.5\n",
      "IQR for column rain: 0.0 (np.float64(0.0), np.float64(0.0))\n",
      "Number of outliers for rain: 8\n",
      "Max outlier for rain: 6.4\n",
      "Min outlier for rain: 0.2\n"
     ]
    }
   ],
   "source": [
    "X_out=X.drop([\"month\",\"day\"],axis=1)\n",
    "\n",
    "outliers_index = {}\n",
    "for column in X_out.columns:\n",
    "    q1=X_out[column].quantile(0.25)\n",
    "    q3=X_out[column].quantile(0.75)\n",
    "    IQR=q3-q1\n",
    "    print(f\"IQR for column {column}: {IQR} {(q1-1.5*IQR,q3+1.5*IQR)}\")\n",
    "    outliers=X_out[column][((X_out[column]<(q1-1.5*IQR)) | (X_out[column]>(q3+1.5*IQR)) )]\n",
    "    outliers_index[column] = outliers\n",
    "    print(f\"Number of outliers for {column}: {len(outliers)}\")\n",
    "    print(f\"Max outlier for {column}: {outliers.max()}\")\n",
    "    print(f\"Min outlier for {column}: {outliers.min()}\")\n",
    "  "
   ]
  },
  {
   "cell_type": "markdown",
   "metadata": {},
   "source": [
    "We seem to have a lot of outliers. "
   ]
  },
  {
   "cell_type": "code",
   "execution_count": 10,
   "metadata": {},
   "outputs": [
    {
     "data": {
      "text/plain": [
       "<seaborn.axisgrid.FacetGrid at 0x21337ffaed0>"
      ]
     },
     "execution_count": 10,
     "metadata": {},
     "output_type": "execute_result"
    },
    {
     "data": {
      "image/png": "[encoded data removed]",
      "text/plain": [
       "<Figure size 500x500 with 1 Axes>"
      ]
     },
     "metadata": {},
     "output_type": "display_data"
    }
   ],
   "source": [
    "sns.displot(df_nodup,x=\"area\",stat='probability')"
   ]
  },
  {
   "cell_type": "markdown",
   "metadata": {},
   "source": [
    "The distribution of area is very skewed. We will use a logarithmic transformation to deal with it. We will also try tit for the rest of the columns, although it might not affect them as much. "
   ]
  },
  {
   "cell_type": "code",
   "execution_count": 11,
   "metadata": {},
   "outputs": [
    {
     "name": "stdout",
     "output_type": "stream",
     "text": [
      "IQR for column area: 6.57 (np.float64(-9.855), np.float64(16.425))\n",
      "Number of outliers for area: 62\n",
      "Max outlier for area: 1090.84\n",
      "Min outlier for area: 17.2\n",
      "207    17.20\n",
      "208    19.23\n",
      "209    23.41\n",
      "210    24.23\n",
      "211    26.00\n",
      "       ...  \n",
      "488    46.70\n",
      "493    43.32\n",
      "498    40.54\n",
      "504    49.59\n",
      "513    54.29\n",
      "Name: area, Length: 62, dtype: float64\n"
     ]
    }
   ],
   "source": [
    "outliers_index = {}\n",
    "q1=df_nodup[\"area\"].quantile(0.25)\n",
    "q3=df_nodup[\"area\"].quantile(0.75)\n",
    "IQR=q3-q1\n",
    "print(f\"IQR for column area: {IQR} {(q1-1.5*IQR,q3+1.5*IQR)}\")\n",
    "outliers=df_nodup[\"area\"][((df_nodup[\"area\"]<(q1-1.5*IQR)) | (df_nodup[\"area\"]>(q3+1.5*IQR)) )]\n",
    "outliers_index[\"area\"] = outliers\n",
    "print(f\"Number of outliers for area: {len(outliers)}\")\n",
    "print(f\"Max outlier for area: {outliers.max()}\")\n",
    "print(f\"Min outlier for area: {outliers.min()}\")\n",
    "print(outliers)"
   ]
  },
  {
   "cell_type": "markdown",
   "metadata": {},
   "source": [
    "The outliers in area are quite important, we would like to keep as many of them as possible."
   ]
  },
  {
   "cell_type": "code",
   "execution_count": 12,
   "metadata": {},
   "outputs": [],
   "source": [
    "columns = [\"X\", \"Y\", \"FFMC\", \"DMC\", \"DC\", \"ISI\", \"temp\", \"RH\", \"wind\", \"rain\", \"area\"]\n",
    "df_log=df_nodup.copy()\n",
    "for column in columns:\n",
    "    df_log[column] = np.log(df_log[column] + 1)"
   ]
  },
  {
   "cell_type": "code",
   "execution_count": 13,
   "metadata": {},
   "outputs": [
    {
     "data": {
      "text/plain": [
       "<seaborn.axisgrid.FacetGrid at 0x2133a2189d0>"
      ]
     },
     "execution_count": 13,
     "metadata": {},
     "output_type": "execute_result"
    },
    {
     "data": {
      "image/png": "[encoded data removed]",
      "text/plain": [
       "<Figure size 500x500 with 1 Axes>"
      ]
     },
     "metadata": {},
     "output_type": "display_data"
    }
   ],
   "source": [
    "sns.displot(df_log,x=\"area\",stat='probability')"
   ]
  },
  {
   "cell_type": "code",
   "execution_count": 14,
   "metadata": {},
   "outputs": [
    {
     "name": "stdout",
     "output_type": "stream",
     "text": [
      "IQR for column X: 0.6931471805599452 (np.float64(0.3465735902799729), np.float64(3.1191623125197534))\n",
      "Number of outliers for X: 0\n",
      "Max outlier for X: nan\n",
      "Min outlier for X: nan\n",
      "IQR for column Y: 0.18232155679395468 (np.float64(1.3359555772431682), np.float64(2.065241804418987))\n",
      "Number of outliers for Y: 51\n",
      "Max outlier for Y: 2.302585092994046\n",
      "Min outlier for Y: 1.0986122886681098\n",
      "IQR for column FFMC: 0.029175489133931087 (np.float64(4.469291663379389), np.float64(4.585993619915113))\n",
      "Number of outliers for FFMC: 54\n",
      "Max outlier for FFMC: 4.468204330914934\n",
      "Min outlier for FFMC: 2.9806186357439426\n",
      "IQR for column DMC: 0.7228733608251456 (np.float64(3.1584545261026555), np.float64(6.049947969403238))\n",
      "Number of outliers for DMC: 40\n",
      "Max outlier for DMC: 3.1135153092103742\n",
      "Min outlier for DMC: 0.7419373447293773\n",
      "IQR for column DC: 0.48105906063611137 (np.float64(5.369495021182527), np.float64(7.293731263726973))\n",
      "Number of outliers for DC: 88\n",
      "Max outlier for DC: 5.303304908059076\n",
      "Min outlier for DC: 2.186051276738094\n",
      "IQR for column ISI: 0.48342664957787607 (np.float64(1.2763400258433102), np.float64(3.2100466241548142))\n",
      "Number of outliers for ISI: 22\n",
      "Max outlier for ISI: 4.044804116661965\n",
      "Min outlier for ISI: 0.0\n",
      "IQR for column temp: 0.3663251997708943 (np.float64(2.253872581250193), np.float64(3.7191733803337703))\n",
      "Number of outliers for temp: 29\n",
      "Max outlier for temp: 2.2300144001592104\n",
      "Min outlier for temp: 1.1631508098056809\n",
      "IQR for column RH: 0.46262352194811296 (np.float64(2.832425241693992), np.float64(4.6829193294864435))\n",
      "Number of outliers for RH: 2\n",
      "Max outlier for RH: 2.772588722239781\n",
      "Min outlier for RH: 2.772588722239781\n",
      "IQR for column wind: 0.4666195312614949 (np.float64(0.6084035227579365), np.float64(2.474881647803916))\n",
      "Number of outliers for wind: 1\n",
      "Max outlier for wind: 0.3364722366212129\n",
      "Min outlier for wind: 0.3364722366212129\n",
      "IQR for column rain: 0.0 (np.float64(0.0), np.float64(0.0))\n",
      "Number of outliers for rain: 8\n",
      "Max outlier for rain: 2.0014800002101243\n",
      "Min outlier for rain: 0.1823215567939546\n",
      "IQR for column area: 2.0241930674493576 (np.float64(-3.0362896011740363), np.float64(5.0604826686233935))\n",
      "Number of outliers for area: 8\n",
      "Max outlier for area: 6.995619625423205\n",
      "Min outlier for area: 5.168379509433644\n"
     ]
    }
   ],
   "source": [
    "columns = [\"X\", \"Y\", \"FFMC\", \"DMC\", \"DC\", \"ISI\", \"temp\", \"RH\", \"wind\", \"rain\",\"area\"]\n",
    "outliers_index = {}\n",
    "for column in columns:\n",
    "    q1=df_log[column].quantile(0.25)\n",
    "    q3=df_log[column].quantile(0.75)\n",
    "    IQR=q3-q1\n",
    "    print(f\"IQR for column {column}: {IQR} {(q1-1.5*IQR,q3+1.5*IQR)}\")\n",
    "    outliers=df_log[column][((df_log[column]<(q1-1.5*IQR)) | (df_log[column]>(q3+1.5*IQR)) )]\n",
    "    outliers_index[column] = outliers\n",
    "    print(f\"Number of outliers for {column}: {len(outliers)}\")\n",
    "    print(f\"Max outlier for {column}: {outliers.max()}\")\n",
    "    print(f\"Min outlier for {column}: {outliers.min()}\")"
   ]
  },
  {
   "cell_type": "markdown",
   "metadata": {},
   "source": [
    "Even after the logarithmic transformation, there are a lot of outliers, although slightly less, specially in area. We will try treating them and not treating them, since treating them might result in a huge loss of information. "
   ]
  },
  {
   "cell_type": "markdown",
   "metadata": {},
   "source": [
    "Let's see if there are meaningful relationships between the variables. "
   ]
  },
  {
   "cell_type": "code",
   "execution_count": 15,
   "metadata": {},
   "outputs": [
    {
     "name": "stderr",
     "output_type": "stream",
     "text": [
      "C:\\Users\\quinito\\AppData\\Local\\Temp\\ipykernel_9284\\4093866403.py:2: SettingWithCopyWarning: \n",
      "A value is trying to be set on a copy of a slice from a DataFrame.\n",
      "Try using .loc[row_indexer,col_indexer] = value instead\n",
      "\n",
      "See the caveats in the documentation: https://pandas.pydata.org/pandas-docs/stable/user_guide/indexing.html#returning-a-view-versus-a-copy\n",
      "  df_numeric[\"area\"]= df_log[\"area\"]\n"
     ]
    },
    {
     "data": {
      "text/plain": [
       "<Axes: >"
      ]
     },
     "execution_count": 15,
     "metadata": {},
     "output_type": "execute_result"
    },
    {
     "data": {
      "image/png": "[encoded data removed]",
      "text/plain": [
       "<Figure size 640x480 with 2 Axes>"
      ]
     },
     "metadata": {},
     "output_type": "display_data"
    }
   ],
   "source": [
    "\n",
    "df_numeric=df_log[columns]\n",
    "df_numeric[\"area\"]= df_log[\"area\"]\n",
    "corr_matrix_variables = df_numeric.corr()  \n",
    "\n",
    "sns.heatmap(corr_matrix_variables, annot=True, fmt=\".2f\", cmap=\"coolwarm\")\n"
   ]
  },
  {
   "cell_type": "markdown",
   "metadata": {},
   "source": [
    "The correlations are really poor. "
   ]
  },
  {
   "cell_type": "markdown",
   "metadata": {},
   "source": [
    "After trying and getting quite bad results, we will see what happens if we treat outliers. "
   ]
  },
  {
   "cell_type": "markdown",
   "metadata": {},
   "source": [
    "Let's see what happens if we drop all of them"
   ]
  },
  {
   "cell_type": "code",
   "execution_count": 16,
   "metadata": {},
   "outputs": [
    {
     "data": {
      "text/html": [
       "<div>\n",
       "<style scoped>\n",
       "    .dataframe tbody tr th:only-of-type {\n",
       "        vertical-align: middle;\n",
       "    }\n",
       "\n",
       "    .dataframe tbody tr th {\n",
       "        vertical-align: top;\n",
       "    }\n",
       "\n",
       "    .dataframe thead th {\n",
       "        text-align: right;\n",
       "    }\n",
       "</style>\n",
       "<table border=\"1\" class=\"dataframe\">\n",
       "  <thead>\n",
       "    <tr style=\"text-align: right;\">\n",
       "      <th></th>\n",
       "      <th>X</th>\n",
       "      <th>Y</th>\n",
       "      <th>FFMC</th>\n",
       "      <th>DMC</th>\n",
       "      <th>DC</th>\n",
       "      <th>ISI</th>\n",
       "      <th>temp</th>\n",
       "      <th>RH</th>\n",
       "      <th>wind</th>\n",
       "      <th>rain</th>\n",
       "      <th>...</th>\n",
       "      <th>month_oct</th>\n",
       "      <th>month_sep</th>\n",
       "      <th>day_fri</th>\n",
       "      <th>day_mon</th>\n",
       "      <th>day_sat</th>\n",
       "      <th>day_sun</th>\n",
       "      <th>day_thu</th>\n",
       "      <th>day_tue</th>\n",
       "      <th>day_wed</th>\n",
       "      <th>area</th>\n",
       "    </tr>\n",
       "  </thead>\n",
       "  <tbody>\n",
       "    <tr>\n",
       "      <th>count</th>\n",
       "      <td>505.000000</td>\n",
       "      <td>505.000000</td>\n",
       "      <td>505.000000</td>\n",
       "      <td>505.000000</td>\n",
       "      <td>505.000000</td>\n",
       "      <td>505.000000</td>\n",
       "      <td>505.000000</td>\n",
       "      <td>505.000000</td>\n",
       "      <td>505.000000</td>\n",
       "      <td>505.000000</td>\n",
       "      <td>...</td>\n",
       "      <td>505.000000</td>\n",
       "      <td>505.000000</td>\n",
       "      <td>505.000000</td>\n",
       "      <td>505.000000</td>\n",
       "      <td>505.000000</td>\n",
       "      <td>505.000000</td>\n",
       "      <td>505.000000</td>\n",
       "      <td>505.000000</td>\n",
       "      <td>505.000000</td>\n",
       "      <td>505.000000</td>\n",
       "    </tr>\n",
       "    <tr>\n",
       "      <th>mean</th>\n",
       "      <td>1.636649</td>\n",
       "      <td>1.640437</td>\n",
       "      <td>4.514625</td>\n",
       "      <td>4.460786</td>\n",
       "      <td>6.038028</td>\n",
       "      <td>2.202434</td>\n",
       "      <td>2.931444</td>\n",
       "      <td>3.753361</td>\n",
       "      <td>1.545811</td>\n",
       "      <td>0.010786</td>\n",
       "      <td>...</td>\n",
       "      <td>0.029703</td>\n",
       "      <td>0.334653</td>\n",
       "      <td>0.166337</td>\n",
       "      <td>0.144554</td>\n",
       "      <td>0.158416</td>\n",
       "      <td>0.184158</td>\n",
       "      <td>0.118812</td>\n",
       "      <td>0.124752</td>\n",
       "      <td>0.102970</td>\n",
       "      <td>1.040412</td>\n",
       "    </tr>\n",
       "    <tr>\n",
       "      <th>std</th>\n",
       "      <td>0.467582</td>\n",
       "      <td>0.237351</td>\n",
       "      <td>0.088995</td>\n",
       "      <td>0.849720</td>\n",
       "      <td>0.963495</td>\n",
       "      <td>0.479484</td>\n",
       "      <td>0.363658</td>\n",
       "      <td>0.354575</td>\n",
       "      <td>0.372420</td>\n",
       "      <td>0.109696</td>\n",
       "      <td>...</td>\n",
       "      <td>0.169935</td>\n",
       "      <td>0.472337</td>\n",
       "      <td>0.372752</td>\n",
       "      <td>0.352000</td>\n",
       "      <td>0.365493</td>\n",
       "      <td>0.387998</td>\n",
       "      <td>0.323888</td>\n",
       "      <td>0.330766</td>\n",
       "      <td>0.304221</td>\n",
       "      <td>1.279983</td>\n",
       "    </tr>\n",
       "    <tr>\n",
       "      <th>min</th>\n",
       "      <td>0.693147</td>\n",
       "      <td>1.098612</td>\n",
       "      <td>2.980619</td>\n",
       "      <td>0.741937</td>\n",
       "      <td>2.186051</td>\n",
       "      <td>0.000000</td>\n",
       "      <td>1.163151</td>\n",
       "      <td>2.772589</td>\n",
       "      <td>0.336472</td>\n",
       "      <td>0.000000</td>\n",
       "      <td>...</td>\n",
       "      <td>0.000000</td>\n",
       "      <td>0.000000</td>\n",
       "      <td>0.000000</td>\n",
       "      <td>0.000000</td>\n",
       "      <td>0.000000</td>\n",
       "      <td>0.000000</td>\n",
       "      <td>0.000000</td>\n",
       "      <td>0.000000</td>\n",
       "      <td>0.000000</td>\n",
       "      <td>0.000000</td>\n",
       "    </tr>\n",
       "    <tr>\n",
       "      <th>25%</th>\n",
       "      <td>1.386294</td>\n",
       "      <td>1.609438</td>\n",
       "      <td>4.513055</td>\n",
       "      <td>4.128746</td>\n",
       "      <td>6.083816</td>\n",
       "      <td>2.001480</td>\n",
       "      <td>2.797281</td>\n",
       "      <td>3.526361</td>\n",
       "      <td>1.308333</td>\n",
       "      <td>0.000000</td>\n",
       "      <td>...</td>\n",
       "      <td>0.000000</td>\n",
       "      <td>0.000000</td>\n",
       "      <td>0.000000</td>\n",
       "      <td>0.000000</td>\n",
       "      <td>0.000000</td>\n",
       "      <td>0.000000</td>\n",
       "      <td>0.000000</td>\n",
       "      <td>0.000000</td>\n",
       "      <td>0.000000</td>\n",
       "      <td>0.000000</td>\n",
       "    </tr>\n",
       "    <tr>\n",
       "      <th>50%</th>\n",
       "      <td>1.609438</td>\n",
       "      <td>1.609438</td>\n",
       "      <td>4.528289</td>\n",
       "      <td>4.694096</td>\n",
       "      <td>6.500088</td>\n",
       "      <td>2.240710</td>\n",
       "      <td>3.010621</td>\n",
       "      <td>3.761200</td>\n",
       "      <td>1.609438</td>\n",
       "      <td>0.000000</td>\n",
       "      <td>...</td>\n",
       "      <td>0.000000</td>\n",
       "      <td>0.000000</td>\n",
       "      <td>0.000000</td>\n",
       "      <td>0.000000</td>\n",
       "      <td>0.000000</td>\n",
       "      <td>0.000000</td>\n",
       "      <td>0.000000</td>\n",
       "      <td>0.000000</td>\n",
       "      <td>0.000000</td>\n",
       "      <td>0.357674</td>\n",
       "    </tr>\n",
       "    <tr>\n",
       "      <th>75%</th>\n",
       "      <td>2.079442</td>\n",
       "      <td>1.791759</td>\n",
       "      <td>4.542230</td>\n",
       "      <td>4.957938</td>\n",
       "      <td>6.572702</td>\n",
       "      <td>2.484907</td>\n",
       "      <td>3.169686</td>\n",
       "      <td>4.007333</td>\n",
       "      <td>1.774952</td>\n",
       "      <td>0.000000</td>\n",
       "      <td>...</td>\n",
       "      <td>0.000000</td>\n",
       "      <td>1.000000</td>\n",
       "      <td>0.000000</td>\n",
       "      <td>0.000000</td>\n",
       "      <td>0.000000</td>\n",
       "      <td>0.000000</td>\n",
       "      <td>0.000000</td>\n",
       "      <td>0.000000</td>\n",
       "      <td>0.000000</td>\n",
       "      <td>1.996060</td>\n",
       "    </tr>\n",
       "    <tr>\n",
       "      <th>max</th>\n",
       "      <td>2.302585</td>\n",
       "      <td>2.302585</td>\n",
       "      <td>4.576771</td>\n",
       "      <td>5.677781</td>\n",
       "      <td>6.758791</td>\n",
       "      <td>4.044804</td>\n",
       "      <td>3.535145</td>\n",
       "      <td>4.615121</td>\n",
       "      <td>2.341806</td>\n",
       "      <td>2.001480</td>\n",
       "      <td>...</td>\n",
       "      <td>1.000000</td>\n",
       "      <td>1.000000</td>\n",
       "      <td>1.000000</td>\n",
       "      <td>1.000000</td>\n",
       "      <td>1.000000</td>\n",
       "      <td>1.000000</td>\n",
       "      <td>1.000000</td>\n",
       "      <td>1.000000</td>\n",
       "      <td>1.000000</td>\n",
       "      <td>5.049086</td>\n",
       "    </tr>\n",
       "  </tbody>\n",
       "</table>\n",
       "<p>8 rows × 30 columns</p>\n",
       "</div>"
      ],
      "text/plain": [
       "                X           Y        FFMC         DMC          DC         ISI  \\\n",
       "count  505.000000  505.000000  505.000000  505.000000  505.000000  505.000000   \n",
       "mean     1.636649    1.640437    4.514625    4.460786    6.038028    2.202434   \n",
       "std      0.467582    0.237351    0.088995    0.849720    0.963495    0.479484   \n",
       "min      0.693147    1.098612    2.980619    0.741937    2.186051    0.000000   \n",
       "25%      1.386294    1.609438    4.513055    4.128746    6.083816    2.001480   \n",
       "50%      1.609438    1.609438    4.528289    4.694096    6.500088    2.240710   \n",
       "75%      2.079442    1.791759    4.542230    4.957938    6.572702    2.484907   \n",
       "max      2.302585    2.302585    4.576771    5.677781    6.758791    4.044804   \n",
       "\n",
       "             temp          RH        wind        rain  ...   month_oct  \\\n",
       "count  505.000000  505.000000  505.000000  505.000000  ...  505.000000   \n",
       "mean     2.931444    3.753361    1.545811    0.010786  ...    0.029703   \n",
       "std      0.363658    0.354575    0.372420    0.109696  ...    0.169935   \n",
       "min      1.163151    2.772589    0.336472    0.000000  ...    0.000000   \n",
       "25%      2.797281    3.526361    1.308333    0.000000  ...    0.000000   \n",
       "50%      3.010621    3.761200    1.609438    0.000000  ...    0.000000   \n",
       "75%      3.169686    4.007333    1.774952    0.000000  ...    0.000000   \n",
       "max      3.535145    4.615121    2.341806    2.001480  ...    1.000000   \n",
       "\n",
       "        month_sep     day_fri     day_mon     day_sat     day_sun     day_thu  \\\n",
       "count  505.000000  505.000000  505.000000  505.000000  505.000000  505.000000   \n",
       "mean     0.334653    0.166337    0.144554    0.158416    0.184158    0.118812   \n",
       "std      0.472337    0.372752    0.352000    0.365493    0.387998    0.323888   \n",
       "min      0.000000    0.000000    0.000000    0.000000    0.000000    0.000000   \n",
       "25%      0.000000    0.000000    0.000000    0.000000    0.000000    0.000000   \n",
       "50%      0.000000    0.000000    0.000000    0.000000    0.000000    0.000000   \n",
       "75%      1.000000    0.000000    0.000000    0.000000    0.000000    0.000000   \n",
       "max      1.000000    1.000000    1.000000    1.000000    1.000000    1.000000   \n",
       "\n",
       "          day_tue     day_wed        area  \n",
       "count  505.000000  505.000000  505.000000  \n",
       "mean     0.124752    0.102970    1.040412  \n",
       "std      0.330766    0.304221    1.279983  \n",
       "min      0.000000    0.000000    0.000000  \n",
       "25%      0.000000    0.000000    0.000000  \n",
       "50%      0.000000    0.000000    0.357674  \n",
       "75%      0.000000    0.000000    1.996060  \n",
       "max      1.000000    1.000000    5.049086  \n",
       "\n",
       "[8 rows x 30 columns]"
      ]
     },
     "execution_count": 16,
     "metadata": {},
     "output_type": "execute_result"
    }
   ],
   "source": [
    "for column in columns:\n",
    "    df_cleaned=df_log.drop(outliers_index[column].index)\n",
    "df_cleaned.describe()"
   ]
  },
  {
   "cell_type": "code",
   "execution_count": 17,
   "metadata": {},
   "outputs": [
    {
     "name": "stdout",
     "output_type": "stream",
     "text": [
      "IQR for column X: 0.6931471805599452 (np.float64(0.3465735902799729), np.float64(3.1191623125197534))\n",
      "Number of outliers for X: 0\n",
      "Max outlier for X: nan\n",
      "Min outlier for X: nan\n",
      "IQR for column Y: 0.18232155679395468 (np.float64(1.3359555772431682), np.float64(2.065241804418987))\n",
      "Number of outliers for Y: 47\n",
      "Max outlier for Y: 2.302585092994046\n",
      "Min outlier for Y: 1.0986122886681098\n",
      "IQR for column FFMC: 0.029175489133931087 (np.float64(4.469291663379389), np.float64(4.585993619915113))\n",
      "Number of outliers for FFMC: 54\n",
      "Max outlier for FFMC: 4.468204330914934\n",
      "Min outlier for FFMC: 2.9806186357439426\n",
      "IQR for column DMC: 0.8291915161563734 (np.float64(2.8849587147048728), np.float64(6.201724779330366))\n",
      "Number of outliers for DMC: 29\n",
      "Max outlier for DMC: 2.8094026953624978\n",
      "Min outlier for DMC: 0.7419373447293773\n",
      "IQR for column DC: 0.4888862269421699 (np.float64(5.350486467758913), np.float64(7.306031375527592))\n",
      "Number of outliers for DC: 88\n",
      "Max outlier for DC: 5.303304908059076\n",
      "Min outlier for DC: 2.186051276738094\n",
      "IQR for column ISI: 0.48342664957787607 (np.float64(1.2763400258433102), np.float64(3.2100466241548142))\n",
      "Number of outliers for ISI: 22\n",
      "Max outlier for ISI: 4.044804116661965\n",
      "Min outlier for ISI: 0.0\n",
      "IQR for column temp: 0.37240424584727627 (np.float64(2.2386749660592384), np.float64(3.7282919494483435))\n",
      "Number of outliers for temp: 29\n",
      "Max outlier for temp: 2.2300144001592104\n",
      "Min outlier for temp: 1.1631508098056809\n",
      "IQR for column RH: 0.4809726606163096 (np.float64(2.804901533691697), np.float64(4.728792176156936))\n",
      "Number of outliers for RH: 2\n",
      "Max outlier for RH: 2.772588722239781\n",
      "Min outlier for RH: 2.772588722239781\n",
      "IQR for column wind: 0.4666195312614949 (np.float64(0.6084035227579365), np.float64(2.474881647803916))\n",
      "Number of outliers for wind: 1\n",
      "Max outlier for wind: 0.3364722366212129\n",
      "Min outlier for wind: 0.3364722366212129\n",
      "IQR for column rain: 0.0 (np.float64(0.0), np.float64(0.0))\n",
      "Number of outliers for rain: 8\n",
      "Max outlier for rain: 2.0014800002101243\n",
      "Min outlier for rain: 0.1823215567939546\n",
      "IQR for column area: 1.9960599327407849 (np.float64(-2.9940898991111773), np.float64(4.990149831851962))\n",
      "Number of outliers for area: 1\n",
      "Max outlier for area: 5.049086480470509\n",
      "Min outlier for area: 5.049086480470509\n"
     ]
    }
   ],
   "source": [
    "columns = [\"X\", \"Y\", \"FFMC\", \"DMC\", \"DC\", \"ISI\", \"temp\", \"RH\", \"wind\", \"rain\",\"area\"]\n",
    "outliers_index = {}\n",
    "for column in columns:\n",
    "    q1=df_cleaned[column].quantile(0.25)\n",
    "    q3=df_cleaned[column].quantile(0.75)\n",
    "    IQR=q3-q1\n",
    "    print(f\"IQR for column {column}: {IQR} {(q1-1.5*IQR,q3+1.5*IQR)}\")\n",
    "    outliers=df_cleaned[column][((df_cleaned[column]<(q1-1.5*IQR)) | (df_cleaned[column]>(q3+1.5*IQR)) )]\n",
    "    outliers_index[column] = outliers\n",
    "    print(f\"Number of outliers for {column}: {len(outliers)}\")\n",
    "    print(f\"Max outlier for {column}: {outliers.max()}\")\n",
    "    print(f\"Min outlier for {column}: {outliers.min()}\")"
   ]
  },
  {
   "cell_type": "markdown",
   "metadata": {},
   "source": [
    "After dropping them, the distributions left are still not free of extreme values. However, dropping outliers had a huge effect on Mean Squared Error when using our model. "
   ]
  },
  {
   "cell_type": "markdown",
   "metadata": {},
   "source": [
    "We split and scale the data to prepare it for modeling"
   ]
  },
  {
   "cell_type": "code",
   "execution_count": 18,
   "metadata": {},
   "outputs": [],
   "source": [
    "X2 = df_cleaned.drop(columns='area')\n",
    "y2 = df_cleaned['area'] \n",
    "\n",
    "import pandas as pd\n",
    "import tensorflow as tf\n",
    "from sklearn.model_selection import train_test_split\n",
    "from sklearn.preprocessing import RobustScaler\n",
    "\n",
    "X_train, X_test, y_train, y_test = train_test_split(X2, y2, test_size=0.2, random_state=42)\n",
    "\n",
    "\n",
    "\n"
   ]
  },
  {
   "cell_type": "code",
   "execution_count": 19,
   "metadata": {},
   "outputs": [],
   "source": [
    "scaler = RobustScaler()\n",
    "X_train = scaler.fit_transform(X_train)\n",
    "X_test = scaler.transform(X_test)"
   ]
  },
  {
   "cell_type": "markdown",
   "metadata": {},
   "source": [
    "We start modeling. We tried a few different architectures, and logged them all in mlflow. The one we show behind performed the best."
   ]
  },
  {
   "cell_type": "markdown",
   "metadata": {},
   "source": [
    "We tried a weighted loss function to fight the skewness of the target values, but it did not work very well. "
   ]
  },
  {
   "cell_type": "code",
   "execution_count": 20,
   "metadata": {},
   "outputs": [],
   "source": [
    "\n",
    "def weighted_mse(y_true, y_pred):\n",
    "    weights = tf.where(y_true > 1, 2.0, 1.0)  \n",
    "    mse = tf.square(y_true - y_pred)\n",
    "    return tf.reduce_mean(weights * mse)\n"
   ]
  },
  {
   "cell_type": "code",
   "execution_count": 21,
   "metadata": {},
   "outputs": [
    {
     "name": "stderr",
     "output_type": "stream",
     "text": [
      "C:\\Users\\quinito\\AppData\\Local\\Packages\\PythonSoftwareFoundation.Python.3.11_qbz5n2kfra8p0\\LocalCache\\local-packages\\Python311\\site-packages\\keras\\src\\layers\\core\\input_layer.py:27: UserWarning: Argument `input_shape` is deprecated. Use `shape` instead.\n",
      "  warnings.warn(\n"
     ]
    }
   ],
   "source": [
    "\n",
    "model = tf.keras.Sequential([\n",
    "    tf.keras.layers.InputLayer(input_shape=(X_train.shape[1],)), \n",
    "    tf.keras.layers.Dense(64, activation='relu'),  \n",
    "    tf.keras.layers.Dense(1)  \n",
    "])\n",
    "\n",
    "model.compile(optimizer='adam', \n",
    "              loss='mean_squared_error')  \n",
    "\n",
    "history = model.fit(X_train, y_train, epochs=20, batch_size=32, validation_data=(X_test, y_test), verbose=0)\n",
    "\n",
    "\n",
    "\n",
    "\n"
   ]
  },
  {
   "cell_type": "markdown",
   "metadata": {},
   "source": [
    "We list the parameters mlflow will receive."
   ]
  },
  {
   "cell_type": "code",
   "execution_count": 22,
   "metadata": {},
   "outputs": [],
   "source": [
    "params = {\n",
    "    \"loss function\":'mean_squared_error',\n",
    "    \"epochs\": 20,\n",
    "    \"batch_size\":32,\n",
    "    \"n hidden layers\": 1,\n",
    "    \"1st layer\": 64,\n",
    "    \"random_state\": 42,\n",
    "    \"preprocessing\":\"Robust Scaling + log transf+dropping outliers\",\n",
    "    \"dropout rate\": \"auto\",\n",
    "    \"weight inizialization\": \"auto\",\n",
    "    \"learning rate\": \"auto\",\n",
    "    \"L1 L2 regukarization\": \"auto\",\n",
    "    \"dropout\": \"auto\",\n",
    "}"
   ]
  },
  {
   "cell_type": "markdown",
   "metadata": {},
   "source": [
    "We calculate how our model performed with a few different metrics."
   ]
  },
  {
   "cell_type": "code",
   "execution_count": 23,
   "metadata": {},
   "outputs": [
    {
     "name": "stdout",
     "output_type": "stream",
     "text": [
      "\u001b[1m4/4\u001b[0m \u001b[32m━━━━━━━━━━━━━━━━━━━━\u001b[0m\u001b[37m\u001b[0m \u001b[1m0s\u001b[0m 17ms/step\n",
      "Mean Squared Error: 1.5366484673627732\n",
      "RMSE: 1.2396162581068277\n",
      "explained variance: -0.013357064556287268\n",
      "r2 score: -0.041267963552754416\n"
     ]
    }
   ],
   "source": [
    "from sklearn.metrics import mean_squared_error\n",
    "from sklearn.metrics import explained_variance_score\n",
    "from sklearn.metrics import r2_score\n",
    "from math import sqrt\n",
    "\n",
    "y_pred = model.predict(X_test)\n",
    "\n",
    "rScore=r2_score(y_test,y_pred)\n",
    "mse = mean_squared_error(y_test, y_pred)\n",
    "exp_v=explained_variance_score(y_test, y_pred)\n",
    "print(f'Mean Squared Error: {mse}')\n",
    "print(f'RMSE: {sqrt(mse)}')\n",
    "print(f'explained variance: {exp_v}')\n",
    "print(f'r2 score: {rScore}')\n",
    "\n",
    "\n",
    "\n"
   ]
  },
  {
   "cell_type": "code",
   "execution_count": 24,
   "metadata": {},
   "outputs": [
    {
     "data": {
      "image/png": "[encoded data removed]",
      "text/plain": [
       "<Figure size 800x600 with 1 Axes>"
      ]
     },
     "metadata": {},
     "output_type": "display_data"
    }
   ],
   "source": [
    "import matplotlib.pyplot as plt\n",
    "\n",
    "train_loss = history.history['loss']\n",
    "val_loss = history.history['val_loss']\n",
    "epochs = range(1, len(train_loss) + 1)\n",
    "\n",
    "plt.figure(figsize=(8, 6))\n",
    "plt.plot(epochs, train_loss, label='Training Loss', color='blue')\n",
    "plt.plot(epochs, val_loss, label='Validation Loss', color='orange')\n",
    "plt.title('Training and Validation Loss')\n",
    "plt.xlabel('Epochs')\n",
    "plt.ylabel('Loss')\n",
    "plt.legend()\n",
    "plt.grid(True)\n",
    "plt.show()"
   ]
  },
  {
   "cell_type": "markdown",
   "metadata": {},
   "source": [
    "We connect with mlflow for logging"
   ]
  },
  {
   "cell_type": "code",
   "execution_count": 25,
   "metadata": {},
   "outputs": [],
   "source": [
    "import mlflow \n",
    "mlflow.set_tracking_uri(uri=\"http://127.0.0.1:8080\")"
   ]
  },
  {
   "cell_type": "code",
   "execution_count": 26,
   "metadata": {},
   "outputs": [
    {
     "name": "stdout",
     "output_type": "stream",
     "text": [
      "Current tracking URI: http://127.0.0.1:8080\n"
     ]
    }
   ],
   "source": [
    "print(\"Current tracking URI:\", mlflow.get_tracking_uri())"
   ]
  },
  {
   "cell_type": "code",
   "execution_count": 27,
   "metadata": {},
   "outputs": [
    {
     "data": {
      "text/plain": [
       "<Experiment: artifact_location='mlflow-artifacts:/541877124317497447', creation_time=1734265756868, experiment_id='541877124317497447', last_update_time=1734265756868, lifecycle_stage='active', name='Assignment 2 Final version DS', tags={}>"
      ]
     },
     "execution_count": 27,
     "metadata": {},
     "output_type": "execute_result"
    }
   ],
   "source": [
    "mlflow.set_experiment(\"Assignment 2 Final version DS\")\n"
   ]
  },
  {
   "cell_type": "markdown",
   "metadata": {},
   "source": [
    "We log the model."
   ]
  },
  {
   "cell_type": "code",
   "execution_count": 28,
   "metadata": {},
   "outputs": [
    {
     "name": "stderr",
     "output_type": "stream",
     "text": [
      "2024/12/15 19:32:46 WARNING mlflow.utils.git_utils: Failed to import Git (the Git executable is probably not on your PATH), so Git SHA is not available. Error: Failed to initialize: Bad git executable.\n",
      "The git executable must be specified in one of the following ways:\n",
      "    - be included in your $PATH\n",
      "    - be set via $GIT_PYTHON_GIT_EXECUTABLE\n",
      "    - explicitly set via git.refresh(<full-path-to-git-executable>)\n",
      "\n",
      "All git commands will error until this is rectified.\n",
      "\n",
      "This initial message can be silenced or aggravated in the future by setting the\n",
      "$GIT_PYTHON_REFRESH environment variable. Use one of the following values:\n",
      "    - quiet|q|silence|s|silent|none|n|0: for no message or exception\n",
      "    - warn|w|warning|log|l|1: for a warning message (logging level CRITICAL, displayed by default)\n",
      "    - error|e|exception|raise|r|2: for a raised exception\n",
      "\n",
      "Example:\n",
      "    export GIT_PYTHON_REFRESH=quiet\n",
      "\n"
     ]
    },
    {
     "name": "stdout",
     "output_type": "stream",
     "text": [
      "\u001b[1m13/13\u001b[0m \u001b[32m━━━━━━━━━━━━━━━━━━━━\u001b[0m\u001b[37m\u001b[0m \u001b[1m0s\u001b[0m 3ms/step \n"
     ]
    },
    {
     "name": "stderr",
     "output_type": "stream",
     "text": [
      "C:\\Users\\quinito\\AppData\\Local\\Packages\\PythonSoftwareFoundation.Python.3.11_qbz5n2kfra8p0\\LocalCache\\local-packages\\Python311\\site-packages\\tqdm\\auto.py:21: TqdmWarning: IProgress not found. Please update jupyter and ipywidgets. See https://ipywidgets.readthedocs.io/en/stable/user_install.html\n",
      "  from .autonotebook import tqdm as notebook_tqdm\n",
      "Downloading artifacts: 100%|██████████| 7/7 [00:00<00:00, 700.12it/s]\n"
     ]
    },
    {
     "name": "stdout",
     "output_type": "stream",
     "text": [
      "\u001b[1m13/13\u001b[0m \u001b[32m━━━━━━━━━━━━━━━━━━━━\u001b[0m\u001b[37m\u001b[0m \u001b[1m0s\u001b[0m 5ms/step \n"
     ]
    },
    {
     "name": "stderr",
     "output_type": "stream",
     "text": [
      "Registered model 'assignmentFTry' already exists. Creating a new version of this model...\n",
      "2024/12/15 19:33:14 INFO mlflow.store.model_registry.abstract_store: Waiting up to 300 seconds for model version to finish creation. Model name: assignmentFTry, version 21\n"
     ]
    },
    {
     "name": "stdout",
     "output_type": "stream",
     "text": [
      "🏃 View run able-hog-75 at: http://127.0.0.1:8080/#/experiments/541877124317497447/runs/632e2995d28c4880928072f41cce74b2\n",
      "🧪 View experiment at: http://127.0.0.1:8080/#/experiments/541877124317497447\n"
     ]
    },
    {
     "name": "stderr",
     "output_type": "stream",
     "text": [
      "Created version '21' of model 'assignmentFTry'.\n"
     ]
    }
   ],
   "source": [
    "from mlflow.models import infer_signature\n",
    "\n",
    "with mlflow.start_run():\n",
    "  \n",
    "    mlflow.log_params(params)\n",
    "\n",
    "    # Log the loss metric\n",
    "    mlflow.log_metric(\"R squared\", rScore)\n",
    "    mlflow.log_metric(\"MSE\", mse)\n",
    "    mlflow.log_metric(\"RMSE\", sqrt(mse))\n",
    "    mlflow.log_metric(\"explained variance\", exp_v)\n",
    "\n",
    "\n",
    "    # Set a tag that we can use to remind ourselves what this run was for\n",
    "    mlflow.set_tag(\"Training Info for assignment 2\", \"NN regression for fire in Portugal\")\n",
    "\n",
    "    # Infer the model signature\n",
    "    signature = infer_signature(X_train, model.predict(X_train))\n",
    "\n",
    "    # Log the model\n",
    "    model_info = mlflow.sklearn.log_model(\n",
    "        sk_model=model,\n",
    "        artifact_path=\"assignmentFTry\",\n",
    "        signature=signature,\n",
    "        input_example=X_train,\n",
    "        registered_model_name=\"assignmentFTry\",\n",
    "    )"
   ]
  },
  {
   "cell_type": "markdown",
   "metadata": {},
   "source": [
    "In case we change the scaler, this is the code we would need, changing the name of the variable \"scaler\" to the name we assign to our scaler."
   ]
  },
  {
   "cell_type": "code",
   "execution_count": 29,
   "metadata": {},
   "outputs": [
    {
     "data": {
      "text/plain": [
       "'import joblib\\nwith mlflow.start_run():\\n    # Save the scaler to a file\\n    scaler_path = \"scaler.pkl\"\\n    joblib.dump(scaler, scaler_path)\\n\\n    # Log the scaler as an artifact\\n    mlflow.log_artifact(scaler_path, artifact_path=\"scalers\")\\n\\nprint(\"Scaler logged successfully.\")\\n'"
      ]
     },
     "execution_count": 29,
     "metadata": {},
     "output_type": "execute_result"
    }
   ],
   "source": [
    "\"\"\"import joblib\n",
    "with mlflow.start_run():\n",
    "    # Save the scaler to a file\n",
    "    scaler_path = \"scaler.pkl\"\n",
    "    joblib.dump(scaler, scaler_path)\n",
    "\n",
    "    # Log the scaler as an artifact\n",
    "    mlflow.log_artifact(scaler_path, artifact_path=\"scalers\")\n",
    "\n",
    "print(\"Scaler logged successfully.\")\n",
    "\"\"\"\n",
    "\n"
   ]
  },
  {
   "cell_type": "markdown",
   "metadata": {},
   "source": [
    "We will use a library for generating new data points."
   ]
  },
  {
   "cell_type": "code",
   "execution_count": 30,
   "metadata": {},
   "outputs": [],
   "source": [
    "import sdv.single_table\n",
    "from sdv.single_table import GaussianCopulaSynthesizer\n",
    "from sdv.metadata import SingleTableMetadata\n"
   ]
  },
  {
   "cell_type": "code",
   "execution_count": 31,
   "metadata": {},
   "outputs": [
    {
     "name": "stderr",
     "output_type": "stream",
     "text": [
      "C:\\Users\\quinito\\AppData\\Local\\Packages\\PythonSoftwareFoundation.Python.3.11_qbz5n2kfra8p0\\LocalCache\\local-packages\\Python311\\site-packages\\sdv\\single_table\\base.py:119: FutureWarning: The 'SingleTableMetadata' is deprecated. Please use the new 'Metadata' class for synthesizers.\n",
      "  warnings.warn(DEPRECATION_MSG, FutureWarning)\n",
      "C:\\Users\\quinito\\AppData\\Local\\Packages\\PythonSoftwareFoundation.Python.3.11_qbz5n2kfra8p0\\LocalCache\\local-packages\\Python311\\site-packages\\sdv\\single_table\\base.py:104: UserWarning: We strongly recommend saving the metadata using 'save_to_json' for replicability in future SDV versions.\n",
      "  warnings.warn(\n"
     ]
    },
    {
     "name": "stdout",
     "output_type": "stream",
     "text": [
      "   X  Y month  day  FFMC    DMC     DC   ISI  temp  RH  wind  rain   area\n",
      "0  4  3   apr  sat  94.2  212.9  843.1   8.2  24.6  27   3.6   1.0  13.66\n",
      "1  2  3   oct  sun  89.2   69.8  860.2   7.6  22.8  33   4.3   2.3   7.94\n",
      "2  1  6   aug  thu  87.3   39.9  664.2   2.7  13.4  52   2.2   5.9   4.78\n",
      "3  6  4   sep  wed  91.0  190.9  860.6   5.9  21.6  55   2.0   6.1  28.00\n",
      "4  8  5   mar  tue  89.7   91.8  858.4  10.7  23.9  27   3.8   2.5   2.29\n",
      "5  7  3   aug  sun  91.0  108.0  857.2   7.3  29.3  34   3.5   2.7  11.59\n",
      "6  1  4   jul  fri  91.5  146.1  859.5  10.7  23.9  44   3.0   0.0  89.44\n",
      "7  8  4   aug  mon  86.9  151.3  798.0   2.2  11.4  44   2.0   3.7   0.10\n",
      "8  4  4   sep  fri  89.4   69.3  242.9   6.1  24.3  27   0.9   2.1  11.71\n",
      "9  4  6   may  tue  70.5   51.4  512.0   4.7  16.3  38   4.5   0.0   0.01\n"
     ]
    }
   ],
   "source": [
    "metadata = SingleTableMetadata()\n",
    "metadata.detect_from_dataframe(Xy)\n",
    "\n",
    "model_GCS = GaussianCopulaSynthesizer(metadata)\n",
    "model_GCS.fit(Xy)\n",
    "\n",
    "new_data = model_GCS.sample(10)\n",
    "print(new_data)\n"
   ]
  },
  {
   "cell_type": "markdown",
   "metadata": {},
   "source": [
    "Now we can feed the new data points to our model and see how accurate the predictions are. "
   ]
  },
  {
   "cell_type": "code",
   "execution_count": 39,
   "metadata": {},
   "outputs": [
    {
     "name": "stdout",
     "output_type": "stream",
     "text": [
      "\u001b[1m1/1\u001b[0m \u001b[32m━━━━━━━━━━━━━━━━━━━━\u001b[0m\u001b[37m\u001b[0m \u001b[1m0s\u001b[0m 53ms/step\n"
     ]
    }
   ],
   "source": [
    "import preProPortugal\n",
    "X_newdata=new_data.drop([\"area\"],axis=1)\n",
    "y_true_newdata=new_data[\"area\"]\n",
    "X_nd=X_newdata.values.tolist()\n",
    "X_new=preProPortugal.encodeData(X_nd)\n",
    "X_n=preProPortugal.preprocess_data(X_new)\n",
    "y_pred_newdata=model.predict(X_n)\n",
    "y_pred_nd_scaled =[np.exp(value) for value in y_pred_newdata]\n"
   ]
  },
  {
   "cell_type": "code",
   "execution_count": 40,
   "metadata": {},
   "outputs": [
    {
     "name": "stdout",
     "output_type": "stream",
     "text": [
      "[array([1.8958936], dtype=float32), array([1.8225769], dtype=float32), array([3.1850817], dtype=float32), array([3.586929], dtype=float32), array([3.0177445], dtype=float32), array([2.5268416], dtype=float32), array([4.313853], dtype=float32), array([2.973684], dtype=float32), array([2.3057902], dtype=float32), array([1.8911632], dtype=float32)]\n",
      "0    13.66\n",
      "1     7.94\n",
      "2     4.78\n",
      "3    28.00\n",
      "4     2.29\n",
      "5    11.59\n",
      "6    89.44\n",
      "7     0.10\n",
      "8    11.71\n",
      "9     0.01\n",
      "Name: area, dtype: float64\n"
     ]
    }
   ],
   "source": [
    "print(y_pred_nd_scaled)\n",
    "print(y_true_newdata)"
   ]
  }
 ],
 "metadata": {
  "kernelspec": {
   "display_name": "Python 3",
   "language": "python",
   "name": "python3"
  },
  "language_info": {
   "codemirror_mode": {
    "name": "ipython",
    "version": 3
   },
   "file_extension": ".py",
   "mimetype": "text/x-python",
   "name": "python",
   "nbconvert_exporter": "python",
   "pygments_lexer": "ipython3",
   "version": "3.11.9"
  }
 },
 "nbformat": 4,
 "nbformat_minor": 2
}
